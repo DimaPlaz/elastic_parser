{
 "cells": [
  {
   "cell_type": "code",
   "execution_count": null,
   "metadata": {},
   "outputs": [],
   "source": [
    "%load_ext autoreload\n",
    "%autoreload 2"
   ]
  },
  {
   "cell_type": "code",
   "execution_count": null,
   "metadata": {
    "scrolled": false
   },
   "outputs": [],
   "source": [
    "%cd /home/sohi/docs/cv-retail-tools\n",
    "from elastic_parser import *"
   ]
  },
  {
   "cell_type": "code",
   "execution_count": null,
   "metadata": {},
   "outputs": [],
   "source": [
    "query = QueryBuilder()\n",
    "parser = Parser(\n",
    "    parse_name='parse_2019_09_09-15', \n",
    "    save_to='/home/sohi/docs/cv-retail-tools/elastic_parser/data/')\n",
    "\n",
    "query.match_phrase('client_id', 0)\n",
    "query.match_phrase('state', 'task_completed')\n",
    "query.timerange(range={'gte':'2019-09-09', 'lte': '2019-09-15'})\n",
    "\n",
    "parser.add_filter([\n",
    "    'hits.hits._source.image_url',\n",
    "    'hits.hits._source.result.final_recognition',\n",
    "    'hits.hits._source.result.category',\n",
    "    'hits.hits._source.result.pricetag',\n",
    "    'hits.hits._source.result.sku'\n",
    "])"
   ]
  },
  {
   "cell_type": "code",
   "execution_count": null,
   "metadata": {
    "scrolled": false
   },
   "outputs": [],
   "source": [
    "parsed = parser.parse(query.build(), size=10000, scroll=True)"
   ]
  },
  {
   "cell_type": "code",
   "execution_count": null,
   "metadata": {},
   "outputs": [],
   "source": [
    "len(parsed)"
   ]
  },
  {
   "cell_type": "code",
   "execution_count": null,
   "metadata": {
    "scrolled": true
   },
   "outputs": [],
   "source": [
    "parsed"
   ]
  },
  {
   "cell_type": "code",
   "execution_count": null,
   "metadata": {},
   "outputs": [],
   "source": []
  }
 ],
 "metadata": {
  "kernelspec": {
   "display_name": "Python 3",
   "language": "python",
   "name": "python3"
  },
  "language_info": {
   "codemirror_mode": {
    "name": "ipython",
    "version": 3
   },
   "file_extension": ".py",
   "mimetype": "text/x-python",
   "name": "python",
   "nbconvert_exporter": "python",
   "pygments_lexer": "ipython3",
   "version": "3.6.8"
  }
 },
 "nbformat": 4,
 "nbformat_minor": 2
}
